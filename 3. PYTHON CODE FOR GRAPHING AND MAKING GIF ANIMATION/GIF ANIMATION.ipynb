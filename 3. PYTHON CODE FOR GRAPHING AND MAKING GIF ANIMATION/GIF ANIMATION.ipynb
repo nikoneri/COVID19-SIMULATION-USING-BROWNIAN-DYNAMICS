{
 "cells": [
  {
   "cell_type": "markdown",
   "metadata": {},
   "source": [
    "<h3> Description: <br> In this notebook we'll make an animation (GIF) with our simulation data. We'll use the saved coordinates X, Y for every person and also the infection matrix. </h3>\n",
    "  "
   ]
  },
  {
   "cell_type": "markdown",
   "metadata": {},
   "source": [
    "<h3>0. Importing libraries</h3>"
   ]
  },
  {
   "cell_type": "code",
   "execution_count": 16,
   "metadata": {},
   "outputs": [],
   "source": [
    "%matplotlib inline \n",
    "\n",
    "import matplotlib.pyplot as plt\n",
    "import numpy as np \n",
    "from matplotlib import rcParams \n",
    "rcParams[\"figure.figsize\"] = [10,10]\n",
    "import imageio "
   ]
  },
  {
   "cell_type": "markdown",
   "metadata": {},
   "source": [
    "<h3>1. Defining function that will make a plot and save it as an image array</h3>"
   ]
  },
  {
   "cell_type": "code",
   "execution_count": 17,
   "metadata": {},
   "outputs": [],
   "source": [
    "def plot_for_offset(j,X,Y,N,L,INF_MAT, num_inf):\n",
    "    plt.ioff()\n",
    "    fig = plt.figure()\n",
    "    ax = fig.add_subplot(111)\n",
    "\n",
    "    for i in range(N):\n",
    "        if INF_MAT[i,j]==0.0:\n",
    "            ax.scatter(X[i,j],Y[i,j], color=\"blue\")\n",
    "        else:\n",
    "            ax.scatter(X[i,j],Y[i,j], color=\"red\")\n",
    "\n",
    "\n",
    "    ax.set_title(\"Configuracion: {} \\n Num. de infectados acumulados: {}\".format(j+1,int(num_inf[(j+1)*200][1])), fontsize=25) #La matriz de coordenadas de la conf. 15,000 no se guarda sino que [15200,215000] de 200 en 200\n",
    "   \n",
    "    ax.set_xlim(-L/2,L/2)\n",
    "    ax.set_ylim(-L/2,L/2)\n",
    "\n",
    "    ax.set_xlabel('X ')\n",
    "    ax.set_ylabel('Y ')\n",
    "\n",
    "    # Used to return the plot as an image array\n",
    "    fig.canvas.draw()       # draw the canvas, cache the renderer\n",
    "    image = np.frombuffer(fig.canvas.tostring_rgb(), dtype='uint8')\n",
    "    image  = image.reshape(fig.canvas.get_width_height()[::-1] + (3,))\n",
    "    plt.close()\n",
    "    if j%100==0:\n",
    "        print (\"Creando figura\", j)\n",
    "    return image"
   ]
  },
  {
   "cell_type": "markdown",
   "metadata": {},
   "source": [
    "<h3>2. Defining function that will make a GIF</h3>"
   ]
  },
  {
   "cell_type": "code",
   "execution_count": 18,
   "metadata": {},
   "outputs": [],
   "source": [
    "def crear_GIF(directorio,nombre_GIF,dens=0.004829, FPS=60):\n",
    "    INF_MAT=np.loadtxt(directorio+\"/MATRIZ_INFECCION.dat\")\n",
    "    num_inf=np.loadtxt(directorio+\"/Infectadas.dat\")\n",
    "    N=np.shape(INF_MAT)[0]\n",
    "    confs=np.shape(INF_MAT)[1]\n",
    "    L=(N/dens)**0.5\n",
    "    X=np.loadtxt(directorio+\"/X.dat\")\n",
    "    Y=np.loadtxt(directorio+\"/Y.dat\")\n",
    "\n",
    "    print(\"Numero de particulas\", N)\n",
    "    print(\"Numero de configuraciones\",confs )\n",
    "    print(\"Tamaño de celda\",L, end=\"\\n\")\n",
    "    print(\"NUMERO DE INFECTADOS INICIALES: \", int(num_inf[0,1]))\n",
    "    print(\"NUMERO DE INFECTADOS NUEVOS: \", int(num_inf[-1,1]-num_inf[0,1]))\n",
    "    print(\"NUMERO DE INFECTADOS FINALES TOTALES: \", int(num_inf[-1,1]))\n",
    "    print(\"Tamaño de matriz de infectados\", INF_MAT.shape)\n",
    "    print(\"Tamaño de matriz de posiciones X\", X.shape)\n",
    "    print(\"Tamaño de matriz de posiciones Y\", Y.shape)\n",
    "\n",
    "    imageio.mimsave(directorio+\"/\"+nombre_GIF+\".gif\", [plot_for_offset(j, X,Y,N,L,INF_MAT,num_inf) for j in range(0,confs,1)], fps=FPS)"
   ]
  },
  {
   "cell_type": "markdown",
   "metadata": {},
   "source": [
    "<h3>3. Implementing function to create a GIF with our data</h3>"
   ]
  },
  {
   "cell_type": "code",
   "execution_count": 19,
   "metadata": {},
   "outputs": [
    {
     "name": "stdout",
     "output_type": "stream",
     "text": [
      "Numero de particulas 529\n",
      "Numero de configuraciones 1000\n",
      "Tamaño de celda 330.9780807795476\n",
      "NUMERO DE INFECTADOS INICIALES:  52\n",
      "NUMERO DE INFECTADOS NUEVOS:  201\n",
      "NUMERO DE INFECTADOS FINALES TOTALES:  253\n",
      "Tamaño de matriz de infectados (529, 1000)\n",
      "Tamaño de matriz de posiciones X (529, 1000)\n",
      "Tamaño de matriz de posiciones Y (529, 1000)\n",
      "Creando figura 0\n",
      "Creando figura 100\n",
      "Creando figura 200\n",
      "Creando figura 300\n",
      "Creando figura 400\n",
      "Creando figura 500\n",
      "Creando figura 600\n",
      "Creando figura 700\n",
      "Creando figura 800\n",
      "Creando figura 900\n"
     ]
    }
   ],
   "source": [
    "crear_GIF(\"../2. OUTPUT DATA\",\"CASO1_aleatorio10%\",FPS=60) "
   ]
  }
 ],
 "metadata": {
  "kernelspec": {
   "display_name": "Python 3",
   "language": "python",
   "name": "python3"
  },
  "language_info": {
   "codemirror_mode": {
    "name": "ipython",
    "version": 3
   },
   "file_extension": ".py",
   "mimetype": "text/x-python",
   "name": "python",
   "nbconvert_exporter": "python",
   "pygments_lexer": "ipython3",
   "version": "3.8.5"
  }
 },
 "nbformat": 4,
 "nbformat_minor": 2
}
